{
 "cells": [
  {
   "cell_type": "code",
   "execution_count": null,
   "id": "770cec31",
   "metadata": {},
   "outputs": [],
   "source": [
    "class BankAccount:\n",
    "    "
   ]
  },
  {
   "cell_type": "code",
   "execution_count": 72,
   "id": "7394c79e",
   "metadata": {},
   "outputs": [
    {
     "name": "stdout",
     "output_type": "stream",
     "text": [
      "The longest word is chestnut\n"
     ]
    }
   ],
   "source": [
    "# #1\n",
    "#geeksforgeeks.org\n",
    "\n",
    "def long_word(a):\n",
    "    max = len(a[0])\n",
    "    word = a[0]\n",
    "    for i in a:\n",
    "        if(len(i) > max):\n",
    "            max = len(i)\n",
    "            word = i\n",
    "    print(\"The longest word is\", word)\n",
    " \n",
    " \n",
    "list = [\"apple\", \"chestnut\", \"gargoyle\", \"pandas\", \"sheep\", \"raptor\"]\n",
    "long_word(list)"
   ]
  },
  {
   "cell_type": "code",
   "execution_count": 73,
   "id": "92e6a80d",
   "metadata": {},
   "outputs": [
    {
     "name": "stdout",
     "output_type": "stream",
     "text": [
      "['apple', 'chestnut', 'gargoyle', 'pandas', 'sheep', 'raptor', 'lime', 'green', 'mustard', 'orange', 'lime', 'violet', 'blue']\n",
      "The longest word is chestnut\n"
     ]
    }
   ],
   "source": [
    "# #2\n",
    "#https://stackoverflow.com/questions/30768056/importing-external-txt-file-in-python\n",
    "#https://stackoverflow.com/questions/3540288/how-do-i-read-a-random-line-from-one-file\n",
    "\n",
    "import random\n",
    "words2=open(\"colors.txt\",\"r\").read().splitlines()\n",
    "\n",
    "for i in range(7):\n",
    "    add7=random.choice(words2)\n",
    "    list.append(add7)\n",
    "\n",
    "print(list)\n",
    "long_word(list)"
   ]
  },
  {
   "cell_type": "code",
   "execution_count": 93,
   "id": "bbb7ed59",
   "metadata": {},
   "outputs": [
    {
     "ename": "NameError",
     "evalue": "name 'samp' is not defined",
     "output_type": "error",
     "traceback": [
      "\u001b[1;31m---------------------------------------------------------------------------\u001b[0m",
      "\u001b[1;31mNameError\u001b[0m                                 Traceback (most recent call last)",
      "Input \u001b[1;32mIn [93]\u001b[0m, in \u001b[0;36m<cell line: 18>\u001b[1;34m()\u001b[0m\n\u001b[0;32m     16\u001b[0m numb_dict\u001b[38;5;241m=\u001b[39m {\u001b[38;5;124m\"\u001b[39m\u001b[38;5;124m1\u001b[39m\u001b[38;5;124m\"\u001b[39m:\u001b[38;5;124m\"\u001b[39m\u001b[38;5;124mone\u001b[39m\u001b[38;5;124m\"\u001b[39m,\u001b[38;5;124m\"\u001b[39m\u001b[38;5;124m2\u001b[39m\u001b[38;5;124m\"\u001b[39m:\u001b[38;5;124m\"\u001b[39m\u001b[38;5;124mtwo\u001b[39m\u001b[38;5;124m\"\u001b[39m,\u001b[38;5;124m\"\u001b[39m\u001b[38;5;124m3\u001b[39m\u001b[38;5;124m\"\u001b[39m:\u001b[38;5;124m\"\u001b[39m\u001b[38;5;124mthree\u001b[39m\u001b[38;5;124m\"\u001b[39m, \u001b[38;5;124m\"\u001b[39m\u001b[38;5;124m4\u001b[39m\u001b[38;5;124m\"\u001b[39m:\u001b[38;5;124m\"\u001b[39m\u001b[38;5;124mfour\u001b[39m\u001b[38;5;124m\"\u001b[39m}\n\u001b[0;32m     17\u001b[0m numbers\u001b[38;5;241m=\u001b[39mSample(numb_dict)\n\u001b[1;32m---> 18\u001b[0m \u001b[43mnumbers\u001b[49m\u001b[38;5;241;43m.\u001b[39;49m\u001b[43mkey\u001b[49m\u001b[43m(\u001b[49m\u001b[43m)\u001b[49m\n",
      "Input \u001b[1;32mIn [93]\u001b[0m, in \u001b[0;36mSample.key\u001b[1;34m(self)\u001b[0m\n\u001b[0;32m      6\u001b[0m \u001b[38;5;28;01mdef\u001b[39;00m \u001b[38;5;21mkey\u001b[39m(\u001b[38;5;28mself\u001b[39m):\n\u001b[1;32m----> 7\u001b[0m     \u001b[38;5;28mprint\u001b[39m(\u001b[43msamp\u001b[49m\u001b[38;5;241m.\u001b[39mkeys())\n",
      "\u001b[1;31mNameError\u001b[0m: name 'samp' is not defined"
     ]
    }
   ],
   "source": [
    "# #3\n",
    "\n",
    "class Sample:\n",
    "    def __init__(self,samp):\n",
    "        self.samp_di=samp\n",
    "    def key(self):\n",
    "        print(samp.keys())\n",
    "    def val(self):\n",
    "        print(samp.values())\n",
    "    def rem1(self):\n",
    "        print(samp.pop())\n",
    "    def add(self):\n",
    "        samp.update({\"5\":\"five\"})\n",
    "        print(samp)\n",
    "\n",
    "numb_dict= {\"1\":\"one\",\"2\":\"two\",\"3\":\"three\", \"4\":\"four\"}\n",
    "numbers=Sample(numb_dict)\n",
    "numbers.key()"
   ]
  },
  {
   "cell_type": "code",
   "execution_count": null,
   "id": "011b6d2f",
   "metadata": {},
   "outputs": [],
   "source": []
  }
 ],
 "metadata": {
  "kernelspec": {
   "display_name": "Python 3 (ipykernel)",
   "language": "python",
   "name": "python3"
  },
  "language_info": {
   "codemirror_mode": {
    "name": "ipython",
    "version": 3
   },
   "file_extension": ".py",
   "mimetype": "text/x-python",
   "name": "python",
   "nbconvert_exporter": "python",
   "pygments_lexer": "ipython3",
   "version": "3.9.12"
  }
 },
 "nbformat": 4,
 "nbformat_minor": 5
}
