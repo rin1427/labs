{
 "cells": [
  {
   "cell_type": "code",
   "execution_count": 4,
   "id": "6701565c",
   "metadata": {},
   "outputs": [],
   "source": [
    "import selenium\n",
    "from selenium import webdriver\n",
    "from selenium.webdriver.chrome.service import Service\n",
    "from selenium.webdriver.common.keys import Keys\n",
    "from selenium.webdriver.common.by import By\n",
    "from selenium.webdriver.support.ui import WebDriverWait\n",
    "from selenium.webdriver.support import expected_conditions as EC\n",
    "from selenium.webdriver.common.action_chains import ActionChains\n",
    "import time\n",
    "import pandas as pd\n",
    "import csv"
   ]
  },
  {
   "cell_type": "code",
   "execution_count": 8,
   "id": "396cd3be",
   "metadata": {},
   "outputs": [],
   "source": [
    "PATH=Service(\"C:\\Program Files (x86)\\chrome webdriver\\chromedriver.exe\")\n",
    "driver=webdriver.Chrome(service=PATH)\n",
    "driver.get(\"https://www.youtube.com/@ArielBissett\")\n",
    "\n",
    "click_xpath=\"//*[@id='tabsContent']/tp-yt-paper-tab[2]\"\n",
    "link=WebDriverWait(driver,10).until(EC.element_to_be_clickable((By.XPATH,click_xpath)))\n",
    "link.click()"
   ]
  },
  {
   "cell_type": "code",
   "execution_count": null,
   "id": "e32f2392",
   "metadata": {},
   "outputs": [],
   "source": [
    "#whole section of videos\n",
    "\"style-scope ytd-rich-item-renderer\" \n",
    "\n",
    "#video title and link \n",
    "//*[@id=\"video-title-link\"]\n",
    "\n",
    "#video caption \n",
    "//*[@id=\"video-title\"]\n",
    "\n",
    "#video views\n",
    "//*[@id=\"metadata-line\"]/span[1]\n",
    "\n",
    "#video date\n",
    "//*[@id=\"metadata-line\"]/span[2]"
   ]
  },
  {
   "cell_type": "code",
   "execution_count": 9,
   "id": "69a45b45",
   "metadata": {
    "collapsed": true
   },
   "outputs": [
    {
     "name": "stdout",
     "output_type": "stream",
     "text": [
      "https://www.youtube.com/watch?v=TMy_w-DNxrE Who Lives in My House? Downsides of Living Rurally? When Will I Start the Kitchen? | House Q&A! 72K views 3 days ago\n",
      "https://www.youtube.com/watch?v=Ncn-1Dl4qd8 Tiling The Old Fireplace In My Bedroom 88K views 3 weeks ago\n",
      "https://www.youtube.com/watch?v=hvWeUEiNeNs Finally Fixing a Bunch of Little Things Around My House 80K views 1 month ago\n",
      "https://www.youtube.com/watch?v=i4XF5ftrawo Updated House Tour | Two Years Later! 124K views 1 month ago\n",
      "https://www.youtube.com/watch?v=IyA4LX2y4YM One Day In My 160 Year Old House 81K views 2 months ago\n",
      "https://www.youtube.com/watch?v=SlmHoii7v-0 Finishing One Wall In My House! 82K views 2 months ago\n",
      "https://www.youtube.com/watch?v=VgfSztwbwWs Making My Bedroom Cozy For Winter with Wallpaper and a Fireplace! 118K views 3 months ago\n",
      "https://www.youtube.com/watch?v=9ALPmkvLUZU Transforming an Ugly Closet into a Beautiful Space! 116K views 4 months ago\n",
      "https://www.youtube.com/watch?v=MuiEXzT8v0s Six Simple Ways to Upgrade Your Home 64K views 4 months ago\n",
      "https://www.youtube.com/watch?v=Yw8abn-5FgE Cozy Dining Room Makeover! | Before and After 134K views 5 months ago\n",
      "https://www.youtube.com/watch?v=fcgV5JFFDNc Creating a Fancy Gallery Wall 95K views 5 months ago\n",
      "https://www.youtube.com/watch?v=uNrAUpGxEGs Transforming the Smallest Room In My House With Wallpaper 247K views 6 months ago\n",
      "https://www.youtube.com/watch?v=c5XLX34Wahg Finally Cleaning the Spookiest Room in My House 119K views 6 months ago\n",
      "https://www.youtube.com/watch?v=EFJZt4w915E Building The Perfect Reading Nook 172K views 7 months ago\n",
      "https://www.youtube.com/watch?v=oW-zMp6TTMs Cutting a Hole in My Wall and Building a Miniature Living Room 94K views 7 months ago\n",
      "https://www.youtube.com/watch?v=EeqeV7vPJkY Tier Ranking Classic Books Based On Their First Lines! Again! 74K views 7 months ago\n",
      "https://www.youtube.com/watch?v=bqsxc0Ua1JE calmly painting a birdhouse outside 41K views 8 months ago\n",
      "https://www.youtube.com/watch?v=l49cfjFZl20 Paris Thrifting Adventure | prints, flowers, and a tiny gold frame ✨ 76K views 8 months ago\n",
      "https://www.youtube.com/watch?v=ytpr2nA93v8 things i've purchased for my unrenovated kitchen 78K views 10 months ago\n",
      "https://www.youtube.com/watch?v=uaZrVpoMHZg spring closet refresh 🌻 trying on thrift finds + cute things! 56K views 11 months ago\n",
      "https://www.youtube.com/watch?v=wVCRAfOmOvY Painting A Door While Answering Your Questions! 79K views 11 months ago\n",
      "https://www.youtube.com/watch?v=ZGgK5KqM9II building my dream kitchen in the sims (because I can't afford to actually renovate it yet) 114K views 1 year ago\n",
      "https://www.youtube.com/watch?v=WDTUSYd0X24 Updated House Tour | One Year Later! 218K views 1 year ago\n",
      "https://www.youtube.com/watch?v=F0Jb9gYeKm4 Making One Corner Of My House Beautiful! 103K views 1 year ago\n",
      "https://www.youtube.com/watch?v=s3qyA4RHh-E Building The Perfect Guest Room | Before & After Renovation 152K views 1 year ago\n",
      "https://www.youtube.com/watch?v=gh2Ga3Je-Zc my favourite books of 2021 107K views 1 year ago\n",
      "https://www.youtube.com/watch?v=wnUVBJWtw6w Renovating My Staircase | Before & After 123K views 1 year ago\n",
      "https://www.youtube.com/watch?v=wplhHH87bm0 i went to europe and bought many books 86K views 1 year ago\n",
      "https://www.youtube.com/watch?v=XnNx_na-qbM the next five classics i need to read! 66K views 1 year ago\n",
      "https://www.youtube.com/watch?v=PEpwIB9ZeHI Living Room Renovation To Look Like Emma's House! | Before & After 250K views 1 year ago\n"
     ]
    }
   ],
   "source": [
    "try:\n",
    "    main=WebDriverWait(driver,10).until(\n",
    "        EC.presence_of_element_located((By.CLASS_NAME,\"style-scope ytd-rich-item-renderer\"))\n",
    "    )\n",
    "    \n",
    "    for i in range(0,3):\n",
    "        driver.find_element(By.CSS_SELECTOR,\"body\").send_keys(Keys.CONTROL+Keys.END)\n",
    "    \n",
    "    for i in driver.find_elements(By.CLASS_NAME,\"style-scope ytd-rich-item-renderer\"):\n",
    "        link=i.find_element(By.ID,\"video-title-link\").get_attribute(\"href\")\n",
    "        title=i.find_element(By.XPATH, \".//*[@id='video-title-link']\").text\n",
    "        views=i.find_element(By.XPATH, './/*[@id=\"metadata-line\"]/span[1]').text\n",
    "        date=i.find_element(By.XPATH, './/*[@id=\"metadata-line\"]/span[2]').text\n",
    "        print(link,title,views,date)\n",
    "    \n",
    "finally:\n",
    "    driver.quit()"
   ]
  },
  {
   "cell_type": "code",
   "execution_count": 5,
   "id": "690dfdac",
   "metadata": {
    "collapsed": true
   },
   "outputs": [
    {
     "ename": "StaleElementReferenceException",
     "evalue": "Message: stale element reference: element is not attached to the page document\n  (Session info: chrome=110.0.5481.178)\nStacktrace:\nBacktrace:\n\t(No symbol) [0x004E37D3]\n\t(No symbol) [0x00478B81]\n\t(No symbol) [0x0037B36D]\n\t(No symbol) [0x0037E0FB]\n\t(No symbol) [0x0037DFD0]\n\t(No symbol) [0x0037E250]\n\t(No symbol) [0x003B4135]\n\t(No symbol) [0x003B34C6]\n\t(No symbol) [0x003E89DB]\n\t(No symbol) [0x003CB41C]\n\t(No symbol) [0x003E1215]\n\t(No symbol) [0x003CB216]\n\t(No symbol) [0x003A0D97]\n\t(No symbol) [0x003A253D]\n\tGetHandleVerifier [0x0075ABF2+2510930]\n\tGetHandleVerifier [0x00788EC1+2700065]\n\tGetHandleVerifier [0x0078C86C+2714828]\n\tGetHandleVerifier [0x00593480+645344]\n\t(No symbol) [0x00480FD2]\n\t(No symbol) [0x00486C68]\n\t(No symbol) [0x00486D4B]\n\t(No symbol) [0x00490D6B]\n\tBaseThreadInitThunk [0x774E00F9+25]\n\tRtlGetAppContainerNamedObjectPath [0x779C7BBE+286]\n\tRtlGetAppContainerNamedObjectPath [0x779C7B8E+238]\n",
     "output_type": "error",
     "traceback": [
      "\u001b[1;31m---------------------------------------------------------------------------\u001b[0m",
      "\u001b[1;31mStaleElementReferenceException\u001b[0m            Traceback (most recent call last)",
      "Input \u001b[1;32mIn [5]\u001b[0m, in \u001b[0;36m<cell line: 12>\u001b[1;34m()\u001b[0m\n\u001b[0;32m     10\u001b[0m actions\u001b[38;5;241m.\u001b[39mclick(menu)\n\u001b[0;32m     11\u001b[0m actions\u001b[38;5;241m.\u001b[39mclick(submenu_climate)\n\u001b[1;32m---> 12\u001b[0m \u001b[43mactions\u001b[49m\u001b[38;5;241;43m.\u001b[39;49m\u001b[43mperform\u001b[49m\u001b[43m(\u001b[49m\u001b[43m)\u001b[49m\n",
      "File \u001b[1;32m~\\anaconda3\\lib\\site-packages\\selenium\\webdriver\\common\\action_chains.py:73\u001b[0m, in \u001b[0;36mActionChains.perform\u001b[1;34m(self)\u001b[0m\n\u001b[0;32m     71\u001b[0m \u001b[38;5;28;01mdef\u001b[39;00m \u001b[38;5;21mperform\u001b[39m(\u001b[38;5;28mself\u001b[39m):\n\u001b[0;32m     72\u001b[0m     \u001b[38;5;124;03m\"\"\"Performs all stored actions.\"\"\"\u001b[39;00m\n\u001b[1;32m---> 73\u001b[0m     \u001b[38;5;28;43mself\u001b[39;49m\u001b[38;5;241;43m.\u001b[39;49m\u001b[43mw3c_actions\u001b[49m\u001b[38;5;241;43m.\u001b[39;49m\u001b[43mperform\u001b[49m\u001b[43m(\u001b[49m\u001b[43m)\u001b[49m\n",
      "File \u001b[1;32m~\\anaconda3\\lib\\site-packages\\selenium\\webdriver\\common\\actions\\action_builder.py:91\u001b[0m, in \u001b[0;36mActionBuilder.perform\u001b[1;34m(self)\u001b[0m\n\u001b[0;32m     89\u001b[0m         enc[\u001b[38;5;124m\"\u001b[39m\u001b[38;5;124mactions\u001b[39m\u001b[38;5;124m\"\u001b[39m]\u001b[38;5;241m.\u001b[39mappend(encoded)\n\u001b[0;32m     90\u001b[0m         device\u001b[38;5;241m.\u001b[39mactions \u001b[38;5;241m=\u001b[39m []\n\u001b[1;32m---> 91\u001b[0m \u001b[38;5;28;43mself\u001b[39;49m\u001b[38;5;241;43m.\u001b[39;49m\u001b[43mdriver\u001b[49m\u001b[38;5;241;43m.\u001b[39;49m\u001b[43mexecute\u001b[49m\u001b[43m(\u001b[49m\u001b[43mCommand\u001b[49m\u001b[38;5;241;43m.\u001b[39;49m\u001b[43mW3C_ACTIONS\u001b[49m\u001b[43m,\u001b[49m\u001b[43m \u001b[49m\u001b[43menc\u001b[49m\u001b[43m)\u001b[49m\n",
      "File \u001b[1;32m~\\anaconda3\\lib\\site-packages\\selenium\\webdriver\\remote\\webdriver.py:440\u001b[0m, in \u001b[0;36mWebDriver.execute\u001b[1;34m(self, driver_command, params)\u001b[0m\n\u001b[0;32m    438\u001b[0m response \u001b[38;5;241m=\u001b[39m \u001b[38;5;28mself\u001b[39m\u001b[38;5;241m.\u001b[39mcommand_executor\u001b[38;5;241m.\u001b[39mexecute(driver_command, params)\n\u001b[0;32m    439\u001b[0m \u001b[38;5;28;01mif\u001b[39;00m response:\n\u001b[1;32m--> 440\u001b[0m     \u001b[38;5;28;43mself\u001b[39;49m\u001b[38;5;241;43m.\u001b[39;49m\u001b[43merror_handler\u001b[49m\u001b[38;5;241;43m.\u001b[39;49m\u001b[43mcheck_response\u001b[49m\u001b[43m(\u001b[49m\u001b[43mresponse\u001b[49m\u001b[43m)\u001b[49m\n\u001b[0;32m    441\u001b[0m     response[\u001b[38;5;124m\"\u001b[39m\u001b[38;5;124mvalue\u001b[39m\u001b[38;5;124m\"\u001b[39m] \u001b[38;5;241m=\u001b[39m \u001b[38;5;28mself\u001b[39m\u001b[38;5;241m.\u001b[39m_unwrap_value(response\u001b[38;5;241m.\u001b[39mget(\u001b[38;5;124m\"\u001b[39m\u001b[38;5;124mvalue\u001b[39m\u001b[38;5;124m\"\u001b[39m, \u001b[38;5;28;01mNone\u001b[39;00m))\n\u001b[0;32m    442\u001b[0m     \u001b[38;5;28;01mreturn\u001b[39;00m response\n",
      "File \u001b[1;32m~\\anaconda3\\lib\\site-packages\\selenium\\webdriver\\remote\\errorhandler.py:245\u001b[0m, in \u001b[0;36mErrorHandler.check_response\u001b[1;34m(self, response)\u001b[0m\n\u001b[0;32m    243\u001b[0m         alert_text \u001b[38;5;241m=\u001b[39m value[\u001b[38;5;124m\"\u001b[39m\u001b[38;5;124malert\u001b[39m\u001b[38;5;124m\"\u001b[39m]\u001b[38;5;241m.\u001b[39mget(\u001b[38;5;124m\"\u001b[39m\u001b[38;5;124mtext\u001b[39m\u001b[38;5;124m\"\u001b[39m)\n\u001b[0;32m    244\u001b[0m     \u001b[38;5;28;01mraise\u001b[39;00m exception_class(message, screen, stacktrace, alert_text)  \u001b[38;5;66;03m# type: ignore[call-arg]  # mypy is not smart enough here\u001b[39;00m\n\u001b[1;32m--> 245\u001b[0m \u001b[38;5;28;01mraise\u001b[39;00m exception_class(message, screen, stacktrace)\n",
      "\u001b[1;31mStaleElementReferenceException\u001b[0m: Message: stale element reference: element is not attached to the page document\n  (Session info: chrome=110.0.5481.178)\nStacktrace:\nBacktrace:\n\t(No symbol) [0x004E37D3]\n\t(No symbol) [0x00478B81]\n\t(No symbol) [0x0037B36D]\n\t(No symbol) [0x0037E0FB]\n\t(No symbol) [0x0037DFD0]\n\t(No symbol) [0x0037E250]\n\t(No symbol) [0x003B4135]\n\t(No symbol) [0x003B34C6]\n\t(No symbol) [0x003E89DB]\n\t(No symbol) [0x003CB41C]\n\t(No symbol) [0x003E1215]\n\t(No symbol) [0x003CB216]\n\t(No symbol) [0x003A0D97]\n\t(No symbol) [0x003A253D]\n\tGetHandleVerifier [0x0075ABF2+2510930]\n\tGetHandleVerifier [0x00788EC1+2700065]\n\tGetHandleVerifier [0x0078C86C+2714828]\n\tGetHandleVerifier [0x00593480+645344]\n\t(No symbol) [0x00480FD2]\n\t(No symbol) [0x00486C68]\n\t(No symbol) [0x00486D4B]\n\t(No symbol) [0x00490D6B]\n\tBaseThreadInitThunk [0x774E00F9+25]\n\tRtlGetAppContainerNamedObjectPath [0x779C7BBE+286]\n\tRtlGetAppContainerNamedObjectPath [0x779C7B8E+238]\n"
     ]
    }
   ],
   "source": [
    "PATH=Service(\"C:\\Program Files (x86)\\chrome webdriver\\chromedriver.exe\")\n",
    "driver=webdriver.Chrome(service=PATH)\n",
    "driver.get(\"https://data.gov/\")\n",
    "\n",
    "menu=driver.find_element(By.XPATH,'//*[@id=\"menu-primary-navigation\"]')\n",
    "submenu_climate=driver.find_element(By.XPATH,'//*[@id=\"menu-primary-navigation\"]/li[2]/ul/li[2]')\n",
    "\n",
    "actions=ActionChains(driver)\n",
    "actions.move_to_element(menu)\n",
    "actions.click(menu)\n",
    "actions.click(submenu_climate)\n",
    "actions.perform()"
   ]
  },
  {
   "cell_type": "code",
   "execution_count": 16,
   "id": "ffe1fda1",
   "metadata": {},
   "outputs": [],
   "source": [
    "PATH=Service(\"C:\\Program Files (x86)\\chrome webdriver\\chromedriver.exe\")\n",
    "driver=webdriver.Chrome(service=PATH)\n",
    "driver.get(\"https://www.binghamton-ny.gov/home\")\n",
    "\n",
    "gov=driver.find_element(By.XPATH,'//*[@id=\"dropdownrootitem3\"]/a')\n",
    "dept=driver.find_element(By.XPATH,'//*[@id=\"dropdownrootitem3\"]/div/div/ul[1]/li/a')\n",
    "\n",
    "actions=ActionChains(driver)\n",
    "actions.move_to_element(gov)\n",
    "actions.click(gov)\n",
    "actions.click(dept)\n",
    "actions.perform()\n",
    "\n",
    "csv_file=open(\"bing_jobs\",\"w\",newline=\"\", encoding=\"utf-8\")\n",
    "csv_writer=csv.writer(csv_file)\n",
    "csv_writer.writerow([\"Job\",\"Type\",\"Application Deadline\",\"Salary\"])\n",
    "\n",
    "try:\n",
    "    main =  WebDriverWait(driver, 10).until(\n",
    "    EC.presence_of_element_located((By.XPATH, \"//*[@id='widget_4_33_127']/ul/li[16]/a\"))\n",
    "    )\n",
    "    main.click()\n",
    "   \n",
    "    main2 =  WebDriverWait(driver, 10).until(\n",
    "    EC.presence_of_element_located((By.XPATH, \"//*[@id='leftNav_1038_0_145']/ul/li/ul/li[14]/ul/li/a\"))\n",
    "    )\n",
    "    main2.click()\n",
    "    \n",
    "except:\n",
    "    driver.quit()\n",
    "    \n",
    "    for i in driver.find_element(By.XPATH,f\"//*[@id='ColumnUserControl4']/div[2]/table/tbody/tr[{i}]/td[1]\"):\n",
    "        job=driver.find_element(By.XPATH,f\"//*[@id='ColumnUserControl4']/div[2]/table/tbody/tr[{i}]/td[2]\").text\n",
    "        j_type=driver.find_element(By.XPATH,f\"//*[@id='ColumnUserControl4']/div[2]/table/tbody/tr[{i}]/td[3]\").text\n",
    "        app_dl=driver.find_element(By.XPATH,f'//*[@id=\"ColumnUserControl4\"]/div[2]/table/thead/tr/th[3]/a').text\n",
    "        sal=driver.find_element(By.XPATH,f\"//*[@id='ColumnUserControl4']/div[2]/table/tbody/tr[{i}]/td[4]\").text\n",
    "        csv_write.writerow=([job,j_type,app_dl,sal])\n",
    "finally:\n",
    "    driver.quit()\n",
    "    \n",
    "csv_file.close()"
   ]
  },
  {
   "cell_type": "code",
   "execution_count": 17,
   "id": "75971bcf",
   "metadata": {},
   "outputs": [
    {
     "data": {
      "text/html": [
       "<div>\n",
       "<style scoped>\n",
       "    .dataframe tbody tr th:only-of-type {\n",
       "        vertical-align: middle;\n",
       "    }\n",
       "\n",
       "    .dataframe tbody tr th {\n",
       "        vertical-align: top;\n",
       "    }\n",
       "\n",
       "    .dataframe thead th {\n",
       "        text-align: right;\n",
       "    }\n",
       "</style>\n",
       "<table border=\"1\" class=\"dataframe\">\n",
       "  <thead>\n",
       "    <tr style=\"text-align: right;\">\n",
       "      <th></th>\n",
       "      <th>Job</th>\n",
       "      <th>Type</th>\n",
       "      <th>Application Deadline</th>\n",
       "      <th>Salary</th>\n",
       "    </tr>\n",
       "  </thead>\n",
       "  <tbody>\n",
       "  </tbody>\n",
       "</table>\n",
       "</div>"
      ],
      "text/plain": [
       "Empty DataFrame\n",
       "Columns: [Job, Type, Application Deadline, Salary]\n",
       "Index: []"
      ]
     },
     "execution_count": 17,
     "metadata": {},
     "output_type": "execute_result"
    }
   ],
   "source": [
    "csv_read=pd.read_csv(\"bing_jobs\")\n",
    "csv_read"
   ]
  },
  {
   "cell_type": "code",
   "execution_count": null,
   "id": "344e0d9f",
   "metadata": {},
   "outputs": [],
   "source": []
  }
 ],
 "metadata": {
  "kernelspec": {
   "display_name": "Python 3 (ipykernel)",
   "language": "python",
   "name": "python3"
  },
  "language_info": {
   "codemirror_mode": {
    "name": "ipython",
    "version": 3
   },
   "file_extension": ".py",
   "mimetype": "text/x-python",
   "name": "python",
   "nbconvert_exporter": "python",
   "pygments_lexer": "ipython3",
   "version": "3.9.12"
  }
 },
 "nbformat": 4,
 "nbformat_minor": 5
}
